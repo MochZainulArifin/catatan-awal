{
 "cells": [
  {
   "cell_type": "code",
   "execution_count": 0,
   "metadata": {
    "collapsed": false
   },
   "outputs": [
   ],
   "source": [
    "STRUKTUR DATA \n",
    "Stack :tumpukan data merupakan sebuah koleksi objek yang menggunakan prinsip LIFO(Last In First Out),yaitu data yang terakhir kali di masukkan akan pertama kali keluar dari tumpukan tersebut.\n",
    "Ciri-ciri tumpukan:\n",
    "Top : sebutan untuk elemen paling atas dari suatu stack\n",
    "Elemen Top : elemen yang paling akhir di tambahkan \n",
    "Elemen Top diketahui\n",
    "penambahan dan penghapusan elemen selalu dilakukan di Top LIFO(Last In First Out)\n",
    "Operasi tumpukan:\n",
    "1: InsertFiles() biasa disebut dengan Push(input E:typeelmt,input/output data:stack) : menambahkan sebuah elemen ke tumpukan \n",
    "2: DeleteFirst() biasa disebut dengan Pop(output E:typeelmt,input/output data:stack) : menghapus sebuah elemen tumpukan\n",
    "3: IsEmpty(): mengecek apakah stack kosong atau ada elemennya\n",
    "4: iSfULL(): mengecek apakah stack telah penuh atau belum\n",
    "5: Clear() menghapus semua data\n",
    "6: Peek(): melihata data TOP\n",
    "def stack():\n",
    "       S=[]\n",
    "        Return(s)\n",
    " def push(s,data)\n",
    "        S.append(data)\n",
    "  def pop(s)\n",
    "        data=s,pop()\n",
    "         return(data)\n",
    "   def  peek(s)\n",
    "         return(s[len(s)-1])\n",
    " def  isEmpty(s)\n",
    "        return(s==[])\n",
    " def  size(s)\n",
    "       return(len(s))\n",
    "Struktur data direprentasikan dengan list.Posisi top dari suatu stacks berada pada posisi terakhir pada list,oleh karena itu,operasi push pada stack.\n",
    "\n",
    "def balik(teks):\n",
    "       a=stack()\n",
    "       hasil=’ ‘\n",
    "       for i in range(len(teks)):\n",
    "             push(a,teks[i])\n",
    "       for i in range(size(a)):\n",
    "             hasil=hasil+pop(a)\n",
    "       return hasil\n",
    "def cek(teks):\n",
    "       ck stack()\n",
    "        for i in (teks):\n",
    "              if i==”(“:\n",
    "                  push(ck,i)\n",
    "              elif  (i==”)”) and (not(isEmpty(ck))):\n",
    "                   pop(ck)\n",
    "               elif (i==”)”) and (isEmpty(ck)):\n",
    "      return isEmpty(ck)\n",
    "hasil=cek(“(10+5(5+4)))*)\n",
    "print(hasil)\n",
    "\n",
    "\n",
    "\n",
    "def konversi(angka):\n",
    "\tbiner=stack()\n",
    "\thasil=” ”\n",
    "\twhile angka > 0 :\n",
    "\tpush (biner,angka%2)\n",
    "\tangka // = 2\n",
    "while not (isempty(biner)):\n",
    "\thasil=hasil +str(pop(biner))\n",
    "   return hasil\n",
    "hasil = konversi(255)\n",
    "print(hasil)"
   ]
  }
 ],
 "metadata": {
  "kernelspec": {
   "display_name": "Python 3 (old Anaconda 3)",
   "language": "python",
   "name": "anaconda3"
  },
  "language_info": {
   "codemirror_mode": {
    "name": "ipython",
    "version": 3
   },
   "file_extension": ".py",
   "mimetype": "text/x-python",
   "name": "python",
   "nbconvert_exporter": "python",
   "pygments_lexer": "ipython3",
   "version": "3.5.5"
  }
 },
 "nbformat": 4,
 "nbformat_minor": 0
}
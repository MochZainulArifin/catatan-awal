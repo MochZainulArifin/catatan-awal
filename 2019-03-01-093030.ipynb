{
 "cells": [
  {
   "cell_type": "code",
   "execution_count": 3,
   "metadata": {
    "collapsed": false
   },
   "outputs": [
    {
     "name": "stdout",
     "output_type": "stream",
     "text": [
      "72.5\n"
     ]
    }
   ],
   "source": [
    "mhs = [75,25,90,100]\n",
    "jml=0\n",
    "for i in mhs:\n",
    "    jml= jml+i\n",
    "rata= jml/len(mhs)\n",
    "print(rata)"
   ]
  },
  {
   "cell_type": "code",
   "execution_count": 7,
   "metadata": {
    "collapsed": false
   },
   "outputs": [
   ],
   "source": [
    "def stack():\n",
    "    s=[]\n",
    "    return(s)\n",
    "def push(s,data):\n",
    "    s.append(data)\n",
    "def pop (s):\n",
    "    data=s.pop()\n",
    "    return(data)\n",
    "def peek (s):\n",
    "    return(s[len(s)-1])\n",
    "def isEmpty(s):\n",
    "    return (s==[])\n",
    "def size (s):\n",
    "    return (len(s))"
   ]
  },
  {
   "cell_type": "code",
   "execution_count": 0,
   "metadata": {
    "collapsed": false
   },
   "outputs": [
   ],
   "source": [
    "st=stack()\n",
    "isEmpty (st)"
   ]
  },
  {
   "cell_type": "code",
   "execution_count": 0,
   "metadata": {
    "collapsed": false
   },
   "outputs": [
   ],
   "source": [
    "push(st,100)"
   ]
  },
  {
   "cell_type": "code",
   "execution_count": 12,
   "metadata": {
    "collapsed": false
   },
   "outputs": [
    {
     "name": "stdout",
     "output_type": "stream",
     "text": [
      "['a', 'k', 'u']\n",
      "['u', 'k', 'a']\n"
     ]
    }
   ],
   "source": [
    "def stack1():\n",
    "    l=[]\n",
    "    return(l)\n",
    "st1=stack1()\n",
    "push(st1,\"a\")\n",
    "push(st1,\"k\")\n",
    "push(st1,\"u\")\n",
    "print(st1)\n",
    "for i in range (len(st1)):\n",
    "    pop(st1)\n",
    "push(st1,\"u\")\n",
    "push(st1,\"k\")\n",
    "push(st1,\"a\")\n",
    "print(st1)"
   ]
  },
  {
   "cell_type": "code",
   "execution_count": 14,
   "metadata": {
    "collapsed": false
   },
   "outputs": [
    {
     "name": "stdout",
     "output_type": "stream",
     "text": [
      "kera\n"
     ]
    }
   ],
   "source": [
    "def balik (teks):\n",
    "    a= stack()\n",
    "    for i in range(len(teks)):\n",
    "        push(a,teks[i])\n",
    "    hasil=''\n",
    "    for i in range (len(teks)):\n",
    "        hasil=hasil+pop(a)\n",
    "    return hasil\n",
    "print(balik('arek'))"
   ]
  },
  {
   "cell_type": "code",
   "execution_count": 0,
   "metadata": {
    "collapsed": false
   },
   "outputs": [
   ],
   "source": [
   ]
  }
 ],
 "metadata": {
  "kernelspec": {
   "display_name": "Python 3 (old Anaconda 3)",
   "language": "python",
   "name": "anaconda3"
  },
  "language_info": {
   "codemirror_mode": {
    "name": "ipython",
    "version": 3
   },
   "file_extension": ".py",
   "mimetype": "text/x-python",
   "name": "python",
   "nbconvert_exporter": "python",
   "pygments_lexer": "ipython3",
   "version": "3.5.5"
  }
 },
 "nbformat": 4,
 "nbformat_minor": 0
}